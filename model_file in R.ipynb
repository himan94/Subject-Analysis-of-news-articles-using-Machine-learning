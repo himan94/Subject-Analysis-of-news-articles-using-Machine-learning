{
 "cells": [
  {
   "cell_type": "markdown",
   "metadata": {},
   "source": [
    "Importing the training features file"
   ]
  },
  {
   "cell_type": "code",
   "execution_count": 1,
   "metadata": {},
   "outputs": [
    {
     "data": {
      "text/html": [
       "<ol class=list-inline>\n",
       "\t<li>106444</li>\n",
       "\t<li>530</li>\n",
       "</ol>\n"
      ],
      "text/latex": [
       "\\begin{enumerate*}\n",
       "\\item 106444\n",
       "\\item 530\n",
       "\\end{enumerate*}\n"
      ],
      "text/markdown": [
       "1. 106444\n",
       "2. 530\n",
       "\n",
       "\n"
      ],
      "text/plain": [
       "[1] 106444    530"
      ]
     },
     "metadata": {},
     "output_type": "display_data"
    }
   ],
   "source": [
    "train.file = read.csv(file ='training_data.csv', header=TRUE, sep=\",\")\n",
    "dim(train.file)"
   ]
  },
  {
   "cell_type": "markdown",
   "metadata": {},
   "source": [
    "Importing the library e1071 for using svm\n",
    "\n",
    "Removing the column article_names as they do not increase the accuracy"
   ]
  },
  {
   "cell_type": "code",
   "execution_count": 2,
   "metadata": {},
   "outputs": [
    {
     "data": {
      "text/html": [
       "<table>\n",
       "<thead><tr><th scope=col>X000</th><th scope=col>X100</th><th scope=col>X200</th><th scope=col>X2008</th><th scope=col>X500</th><th scope=col>X6.3</th><th scope=col>X6.4</th><th scope=col>abc</th><th scope=col>access</th><th scope=col>accid</th><th scope=col>...</th><th scope=col>world_numb</th><th scope=col>worst</th><th scope=col>year</th><th scope=col>year.</th><th scope=col>years_ago</th><th scope=col>yesterday</th><th scope=col>young</th><th scope=col>zealand</th><th scope=col>article_names</th><th scope=col>article_lable</th></tr></thead>\n",
       "<tbody>\n",
       "\t<tr><td>0        </td><td>0        </td><td>0        </td><td>0        </td><td>0        </td><td>0        </td><td>0        </td><td>0        </td><td>0        </td><td>0.0000000</td><td>...      </td><td>0        </td><td>0        </td><td>0        </td><td>0        </td><td>0        </td><td>0.0000000</td><td>0.2760047</td><td>0        </td><td>tr_doc_1 </td><td>C1       </td></tr>\n",
       "\t<tr><td>0        </td><td>0        </td><td>0        </td><td>0        </td><td>0        </td><td>0        </td><td>0        </td><td>0        </td><td>0        </td><td>0.0000000</td><td>...      </td><td>0        </td><td>0        </td><td>0        </td><td>0        </td><td>0        </td><td>0.0000000</td><td>0.0000000</td><td>0        </td><td>tr_doc_2 </td><td>C1       </td></tr>\n",
       "\t<tr><td>0        </td><td>0        </td><td>0        </td><td>0        </td><td>0        </td><td>0        </td><td>0        </td><td>0        </td><td>0        </td><td>0.0000000</td><td>...      </td><td>0        </td><td>0        </td><td>0        </td><td>0        </td><td>0        </td><td>0.0000000</td><td>0.0000000</td><td>0        </td><td>tr_doc_3 </td><td>C1       </td></tr>\n",
       "\t<tr><td>0        </td><td>0        </td><td>0        </td><td>0        </td><td>0        </td><td>0        </td><td>0        </td><td>0        </td><td>0        </td><td>0.3952448</td><td>...      </td><td>0        </td><td>0        </td><td>0        </td><td>0        </td><td>0        </td><td>0.1597658</td><td>0.0000000</td><td>0        </td><td>tr_doc_4 </td><td>C1       </td></tr>\n",
       "\t<tr><td>0        </td><td>0        </td><td>0        </td><td>0        </td><td>0        </td><td>0        </td><td>0        </td><td>0        </td><td>0        </td><td>0.0000000</td><td>...      </td><td>0        </td><td>0        </td><td>0        </td><td>0        </td><td>0        </td><td>0.0000000</td><td>0.0000000</td><td>0        </td><td>tr_doc_5 </td><td>C1       </td></tr>\n",
       "\t<tr><td>0        </td><td>0        </td><td>0        </td><td>0        </td><td>0        </td><td>0        </td><td>0        </td><td>0        </td><td>0        </td><td>0.0000000</td><td>...      </td><td>0        </td><td>0        </td><td>0        </td><td>0        </td><td>0        </td><td>0.0000000</td><td>0.0000000</td><td>0        </td><td>tr_doc_6 </td><td>C1       </td></tr>\n",
       "</tbody>\n",
       "</table>\n"
      ],
      "text/latex": [
       "\\begin{tabular}{r|llllllllllllllllllllllllllllllllllllllllllllllllllllllllllllllllllllllllllllllllllllllllllllllllllllllllllllllllllllllllllllllllllllllllllllllllllllllllllllllllllllllllllllllllllllllllllllllllllllllllllllllllllllllllllllllllllllllllllllllllllllllllllllllllllllllllllllllllllllllllllllllllllllllllllllllllllllllllllllllllllllllllllllllllllllllllllllllllllllllllllllllllllllllllllllllllllllllllllllllllllllllllllllllllllllllllllllllllllllllllllllllllllllllllllllllllllllllllllllllllllllllllllllllllllllllllllllllllllllllllllllllllll}\n",
       " X000 & X100 & X200 & X2008 & X500 & X6.3 & X6.4 & abc & access & accid & ... & world\\_numb & worst & year & year. & years\\_ago & yesterday & young & zealand & article\\_names & article\\_lable\\\\\n",
       "\\hline\n",
       "\t 0            & 0            & 0            & 0            & 0            & 0            & 0            & 0            & 0            & 0.0000000    & ...          & 0            & 0            & 0            & 0            & 0            & 0.0000000    & 0.2760047    & 0            & tr\\_doc\\_1 & C1          \\\\\n",
       "\t 0            & 0            & 0            & 0            & 0            & 0            & 0            & 0            & 0            & 0.0000000    & ...          & 0            & 0            & 0            & 0            & 0            & 0.0000000    & 0.0000000    & 0            & tr\\_doc\\_2 & C1          \\\\\n",
       "\t 0            & 0            & 0            & 0            & 0            & 0            & 0            & 0            & 0            & 0.0000000    & ...          & 0            & 0            & 0            & 0            & 0            & 0.0000000    & 0.0000000    & 0            & tr\\_doc\\_3 & C1          \\\\\n",
       "\t 0            & 0            & 0            & 0            & 0            & 0            & 0            & 0            & 0            & 0.3952448    & ...          & 0            & 0            & 0            & 0            & 0            & 0.1597658    & 0.0000000    & 0            & tr\\_doc\\_4 & C1          \\\\\n",
       "\t 0            & 0            & 0            & 0            & 0            & 0            & 0            & 0            & 0            & 0.0000000    & ...          & 0            & 0            & 0            & 0            & 0            & 0.0000000    & 0.0000000    & 0            & tr\\_doc\\_5 & C1          \\\\\n",
       "\t 0            & 0            & 0            & 0            & 0            & 0            & 0            & 0            & 0            & 0.0000000    & ...          & 0            & 0            & 0            & 0            & 0            & 0.0000000    & 0.0000000    & 0            & tr\\_doc\\_6 & C1          \\\\\n",
       "\\end{tabular}\n"
      ],
      "text/markdown": [
       "\n",
       "X000 | X100 | X200 | X2008 | X500 | X6.3 | X6.4 | abc | access | accid | ... | world_numb | worst | year | year. | years_ago | yesterday | young | zealand | article_names | article_lable | \n",
       "|---|---|---|---|---|---|\n",
       "| 0         | 0         | 0         | 0         | 0         | 0         | 0         | 0         | 0         | 0.0000000 | ...       | 0         | 0         | 0         | 0         | 0         | 0.0000000 | 0.2760047 | 0         | tr_doc_1  | C1        | \n",
       "| 0         | 0         | 0         | 0         | 0         | 0         | 0         | 0         | 0         | 0.0000000 | ...       | 0         | 0         | 0         | 0         | 0         | 0.0000000 | 0.0000000 | 0         | tr_doc_2  | C1        | \n",
       "| 0         | 0         | 0         | 0         | 0         | 0         | 0         | 0         | 0         | 0.0000000 | ...       | 0         | 0         | 0         | 0         | 0         | 0.0000000 | 0.0000000 | 0         | tr_doc_3  | C1        | \n",
       "| 0         | 0         | 0         | 0         | 0         | 0         | 0         | 0         | 0         | 0.3952448 | ...       | 0         | 0         | 0         | 0         | 0         | 0.1597658 | 0.0000000 | 0         | tr_doc_4  | C1        | \n",
       "| 0         | 0         | 0         | 0         | 0         | 0         | 0         | 0         | 0         | 0.0000000 | ...       | 0         | 0         | 0         | 0         | 0         | 0.0000000 | 0.0000000 | 0         | tr_doc_5  | C1        | \n",
       "| 0         | 0         | 0         | 0         | 0         | 0         | 0         | 0         | 0         | 0.0000000 | ...       | 0         | 0         | 0         | 0         | 0         | 0.0000000 | 0.0000000 | 0         | tr_doc_6  | C1        | \n",
       "\n",
       "\n"
      ],
      "text/plain": [
       "  X000 X100 X200 X2008 X500 X6.3 X6.4 abc access accid     ... world_numb worst\n",
       "1 0    0    0    0     0    0    0    0   0      0.0000000 ... 0          0    \n",
       "2 0    0    0    0     0    0    0    0   0      0.0000000 ... 0          0    \n",
       "3 0    0    0    0     0    0    0    0   0      0.0000000 ... 0          0    \n",
       "4 0    0    0    0     0    0    0    0   0      0.3952448 ... 0          0    \n",
       "5 0    0    0    0     0    0    0    0   0      0.0000000 ... 0          0    \n",
       "6 0    0    0    0     0    0    0    0   0      0.0000000 ... 0          0    \n",
       "  year year. years_ago yesterday young     zealand article_names article_lable\n",
       "1 0    0     0         0.0000000 0.2760047 0       tr_doc_1      C1           \n",
       "2 0    0     0         0.0000000 0.0000000 0       tr_doc_2      C1           \n",
       "3 0    0     0         0.0000000 0.0000000 0       tr_doc_3      C1           \n",
       "4 0    0     0         0.1597658 0.0000000 0       tr_doc_4      C1           \n",
       "5 0    0     0         0.0000000 0.0000000 0       tr_doc_5      C1           \n",
       "6 0    0     0         0.0000000 0.0000000 0       tr_doc_6      C1           "
      ]
     },
     "metadata": {},
     "output_type": "display_data"
    }
   ],
   "source": [
    "head(train.file)"
   ]
  },
  {
   "cell_type": "code",
   "execution_count": 3,
   "metadata": {},
   "outputs": [],
   "source": [
    "#install.packages(\"e1071\",repos = \"http://cran.us.r-project.org\")\n",
    "library( 'e1071' )\n",
    "train.file = train.file[-(ncol(train.file)-1)]\n",
    "#test.file = test.file[-ncol(test.file)]"
   ]
  },
  {
   "cell_type": "markdown",
   "metadata": {},
   "source": [
    "Shuffling the data in the training file and assigning a new variable"
   ]
  },
  {
   "cell_type": "code",
   "execution_count": 4,
   "metadata": {},
   "outputs": [],
   "source": [
    "set.seed(1234)\n",
    "train.file <- train.file[sample(1:nrow(train.file),nrow(train.file)),]\n",
    "train.data = train.file[1:nrow(train.file),]\n",
    "#test.data <- train.file[80001:100000,-ncol(train.file)] # grab the last 50 records, leave out the species (last column)\n",
    "#test.label <- train.file[80001:100000,ncol(train.file)]"
   ]
  },
  {
   "cell_type": "code",
   "execution_count": 5,
   "metadata": {},
   "outputs": [
    {
     "data": {
      "text/html": [
       "<table>\n",
       "<thead><tr><th></th><th scope=col>X000</th><th scope=col>X100</th><th scope=col>X200</th><th scope=col>X2008</th><th scope=col>X500</th><th scope=col>X6.3</th><th scope=col>X6.4</th><th scope=col>abc</th><th scope=col>access</th><th scope=col>accid</th><th scope=col>...</th><th scope=col>world.</th><th scope=col>world_numb</th><th scope=col>worst</th><th scope=col>year</th><th scope=col>year.</th><th scope=col>years_ago</th><th scope=col>yesterday</th><th scope=col>young</th><th scope=col>zealand</th><th scope=col>article_lable</th></tr></thead>\n",
       "<tbody>\n",
       "\t<tr><th scope=row>12104</th><td>0.00000000</td><td>0.18473063</td><td>0.0000000 </td><td>0         </td><td>0.0000000 </td><td>0         </td><td>0         </td><td>0         </td><td>0         </td><td>0         </td><td>...       </td><td>0         </td><td>0         </td><td>0         </td><td>0.00000000</td><td>0.000000  </td><td>0         </td><td>0         </td><td>0         </td><td>0         </td><td>C3        </td></tr>\n",
       "\t<tr><th scope=row>66240</th><td>0.00000000</td><td>0.00000000</td><td>0.1935725 </td><td>0         </td><td>0.0000000 </td><td>0         </td><td>0         </td><td>0         </td><td>0         </td><td>0         </td><td>...       </td><td>0         </td><td>0         </td><td>0         </td><td>0.00000000</td><td>0.188306  </td><td>0         </td><td>0         </td><td>0         </td><td>0         </td><td>C15       </td></tr>\n",
       "\t<tr><th scope=row>64853</th><td>0.00000000</td><td>0.00000000</td><td>0.0000000 </td><td>0         </td><td>0.0000000 </td><td>0         </td><td>0         </td><td>0         </td><td>0         </td><td>0         </td><td>...       </td><td>0         </td><td>0         </td><td>0         </td><td>0.00000000</td><td>0.000000  </td><td>0         </td><td>0         </td><td>0         </td><td>0         </td><td>C14       </td></tr>\n",
       "\t<tr><th scope=row>66354</th><td>0.00000000</td><td>0.18558007</td><td>0.0000000 </td><td>0         </td><td>0.2098304 </td><td>0         </td><td>0         </td><td>0         </td><td>0         </td><td>0         </td><td>...       </td><td>0         </td><td>0         </td><td>0         </td><td>0.00000000</td><td>0.000000  </td><td>0         </td><td>0         </td><td>0         </td><td>0         </td><td>C15       </td></tr>\n",
       "\t<tr><th scope=row>91636</th><td>0.06261435</td><td>0.08067631</td><td>0.0000000 </td><td>0         </td><td>0.0000000 </td><td>0         </td><td>0         </td><td>0         </td><td>0         </td><td>0         </td><td>...       </td><td>0         </td><td>0         </td><td>0         </td><td>0.08786937</td><td>0.000000  </td><td>0         </td><td>0         </td><td>0         </td><td>0         </td><td>C20       </td></tr>\n",
       "\t<tr><th scope=row>68155</th><td>0.00000000</td><td>0.00000000</td><td>0.0000000 </td><td>0         </td><td>0.0000000 </td><td>0         </td><td>0         </td><td>0         </td><td>0         </td><td>0         </td><td>...       </td><td>0         </td><td>0         </td><td>0         </td><td>0.34091294</td><td>0.000000  </td><td>0         </td><td>0         </td><td>0         </td><td>0         </td><td>C15       </td></tr>\n",
       "</tbody>\n",
       "</table>\n"
      ],
      "text/latex": [
       "\\begin{tabular}{r|lllllllllllllllllllllllllllllllllllllllllllllllllllllllllllllllllllllllllllllllllllllllllllllllllllllllllllllllllllllllllllllllllllllllllllllllllllllllllllllllllllllllllllllllllllllllllllllllllllllllllllllllllllllllllllllllllllllllllllllllllllllllllllllllllllllllllllllllllllllllllllllllllllllllllllllllllllllllllllllllllllllllllllllllllllllllllllllllllllllllllllllllllllllllllllllllllllllllllllllllllllllllllllllllllllllllllllllllllllllllllllllllllllllllllllllllllllllllllllllllllllllllllllllllllllllllllllllllllllllllllllllllll}\n",
       "  & X000 & X100 & X200 & X2008 & X500 & X6.3 & X6.4 & abc & access & accid & ... & world. & world\\_numb & worst & year & year. & years\\_ago & yesterday & young & zealand & article\\_lable\\\\\n",
       "\\hline\n",
       "\t12104 & 0.00000000 & 0.18473063 & 0.0000000  & 0          & 0.0000000  & 0          & 0          & 0          & 0          & 0          & ...        & 0          & 0          & 0          & 0.00000000 & 0.000000   & 0          & 0          & 0          & 0          & C3        \\\\\n",
       "\t66240 & 0.00000000 & 0.00000000 & 0.1935725  & 0          & 0.0000000  & 0          & 0          & 0          & 0          & 0          & ...        & 0          & 0          & 0          & 0.00000000 & 0.188306   & 0          & 0          & 0          & 0          & C15       \\\\\n",
       "\t64853 & 0.00000000 & 0.00000000 & 0.0000000  & 0          & 0.0000000  & 0          & 0          & 0          & 0          & 0          & ...        & 0          & 0          & 0          & 0.00000000 & 0.000000   & 0          & 0          & 0          & 0          & C14       \\\\\n",
       "\t66354 & 0.00000000 & 0.18558007 & 0.0000000  & 0          & 0.2098304  & 0          & 0          & 0          & 0          & 0          & ...        & 0          & 0          & 0          & 0.00000000 & 0.000000   & 0          & 0          & 0          & 0          & C15       \\\\\n",
       "\t91636 & 0.06261435 & 0.08067631 & 0.0000000  & 0          & 0.0000000  & 0          & 0          & 0          & 0          & 0          & ...        & 0          & 0          & 0          & 0.08786937 & 0.000000   & 0          & 0          & 0          & 0          & C20       \\\\\n",
       "\t68155 & 0.00000000 & 0.00000000 & 0.0000000  & 0          & 0.0000000  & 0          & 0          & 0          & 0          & 0          & ...        & 0          & 0          & 0          & 0.34091294 & 0.000000   & 0          & 0          & 0          & 0          & C15       \\\\\n",
       "\\end{tabular}\n"
      ],
      "text/markdown": [
       "\n",
       "| <!--/--> | X000 | X100 | X200 | X2008 | X500 | X6.3 | X6.4 | abc | access | accid | ... | world. | world_numb | worst | year | year. | years_ago | yesterday | young | zealand | article_lable | \n",
       "|---|---|---|---|---|---|\n",
       "| 12104 | 0.00000000 | 0.18473063 | 0.0000000  | 0          | 0.0000000  | 0          | 0          | 0          | 0          | 0          | ...        | 0          | 0          | 0          | 0.00000000 | 0.000000   | 0          | 0          | 0          | 0          | C3         | \n",
       "| 66240 | 0.00000000 | 0.00000000 | 0.1935725  | 0          | 0.0000000  | 0          | 0          | 0          | 0          | 0          | ...        | 0          | 0          | 0          | 0.00000000 | 0.188306   | 0          | 0          | 0          | 0          | C15        | \n",
       "| 64853 | 0.00000000 | 0.00000000 | 0.0000000  | 0          | 0.0000000  | 0          | 0          | 0          | 0          | 0          | ...        | 0          | 0          | 0          | 0.00000000 | 0.000000   | 0          | 0          | 0          | 0          | C14        | \n",
       "| 66354 | 0.00000000 | 0.18558007 | 0.0000000  | 0          | 0.2098304  | 0          | 0          | 0          | 0          | 0          | ...        | 0          | 0          | 0          | 0.00000000 | 0.000000   | 0          | 0          | 0          | 0          | C15        | \n",
       "| 91636 | 0.06261435 | 0.08067631 | 0.0000000  | 0          | 0.0000000  | 0          | 0          | 0          | 0          | 0          | ...        | 0          | 0          | 0          | 0.08786937 | 0.000000   | 0          | 0          | 0          | 0          | C20        | \n",
       "| 68155 | 0.00000000 | 0.00000000 | 0.0000000  | 0          | 0.0000000  | 0          | 0          | 0          | 0          | 0          | ...        | 0          | 0          | 0          | 0.34091294 | 0.000000   | 0          | 0          | 0          | 0          | C15        | \n",
       "\n",
       "\n"
      ],
      "text/plain": [
       "      X000       X100       X200      X2008 X500      X6.3 X6.4 abc access\n",
       "12104 0.00000000 0.18473063 0.0000000 0     0.0000000 0    0    0   0     \n",
       "66240 0.00000000 0.00000000 0.1935725 0     0.0000000 0    0    0   0     \n",
       "64853 0.00000000 0.00000000 0.0000000 0     0.0000000 0    0    0   0     \n",
       "66354 0.00000000 0.18558007 0.0000000 0     0.2098304 0    0    0   0     \n",
       "91636 0.06261435 0.08067631 0.0000000 0     0.0000000 0    0    0   0     \n",
       "68155 0.00000000 0.00000000 0.0000000 0     0.0000000 0    0    0   0     \n",
       "      accid ... world. world_numb worst year       year.    years_ago yesterday\n",
       "12104 0     ... 0      0          0     0.00000000 0.000000 0         0        \n",
       "66240 0     ... 0      0          0     0.00000000 0.188306 0         0        \n",
       "64853 0     ... 0      0          0     0.00000000 0.000000 0         0        \n",
       "66354 0     ... 0      0          0     0.00000000 0.000000 0         0        \n",
       "91636 0     ... 0      0          0     0.08786937 0.000000 0         0        \n",
       "68155 0     ... 0      0          0     0.34091294 0.000000 0         0        \n",
       "      young zealand article_lable\n",
       "12104 0     0       C3           \n",
       "66240 0     0       C15          \n",
       "64853 0     0       C14          \n",
       "66354 0     0       C15          \n",
       "91636 0     0       C20          \n",
       "68155 0     0       C15          "
      ]
     },
     "metadata": {},
     "output_type": "display_data"
    }
   ],
   "source": [
    "head(train.data)"
   ]
  },
  {
   "cell_type": "markdown",
   "metadata": {},
   "source": [
    "Fitting the training data in the SVM model where the article label os to be predicted"
   ]
  },
  {
   "cell_type": "code",
   "execution_count": null,
   "metadata": {},
   "outputs": [],
   "source": [
    "model_svm <- svm( article_lable ~., data = train.data)"
   ]
  },
  {
   "cell_type": "markdown",
   "metadata": {},
   "source": [
    "Importing the test data file.\n",
    "\n",
    "Storing the article names in a vector which would be utilized later in making the testing labels pred.txt file"
   ]
  },
  {
   "cell_type": "code",
   "execution_count": 11,
   "metadata": {},
   "outputs": [],
   "source": [
    "test.file = read.csv(file ='test_data.csv', header=TRUE, sep=\",\")\n",
    "ar_names <- test.file[,ncol(test.file)]"
   ]
  },
  {
   "cell_type": "code",
   "execution_count": 15,
   "metadata": {},
   "outputs": [
    {
     "data": {
      "text/html": [
       "<table>\n",
       "<thead><tr><th scope=col>X000</th><th scope=col>X100</th><th scope=col>X200</th><th scope=col>X2008</th><th scope=col>X500</th><th scope=col>X6.3</th><th scope=col>X6.4</th><th scope=col>abc</th><th scope=col>access</th><th scope=col>accid</th><th scope=col>...</th><th scope=col>work</th><th scope=col>worker</th><th scope=col>world</th><th scope=col>world_numb</th><th scope=col>worst</th><th scope=col>year</th><th scope=col>years_ago</th><th scope=col>yesterday</th><th scope=col>young</th><th scope=col>zealand</th></tr></thead>\n",
       "<tbody>\n",
       "\t<tr><td>0         </td><td>0.0000000 </td><td>0.1902794 </td><td>0         </td><td>0         </td><td>0         </td><td>0         </td><td>0         </td><td>0.0000000 </td><td>0         </td><td>...       </td><td>0         </td><td>0         </td><td>0         </td><td>0         </td><td>0         </td><td>0.18269776</td><td>0.0000000 </td><td>0         </td><td>0         </td><td>0         </td></tr>\n",
       "\t<tr><td>0         </td><td>0.0000000 </td><td>0.0000000 </td><td>0         </td><td>0         </td><td>0         </td><td>0         </td><td>0         </td><td>0.0000000 </td><td>0         </td><td>...       </td><td>0         </td><td>0         </td><td>0         </td><td>0         </td><td>0         </td><td>0.06883382</td><td>0.1448312 </td><td>0         </td><td>0         </td><td>0         </td></tr>\n",
       "\t<tr><td>0         </td><td>0.0000000 </td><td>0.0000000 </td><td>0         </td><td>0         </td><td>0         </td><td>0         </td><td>0         </td><td>0.5385739 </td><td>0         </td><td>...       </td><td>0         </td><td>0         </td><td>0         </td><td>0         </td><td>0         </td><td>0.00000000</td><td>0.2586836 </td><td>0         </td><td>0         </td><td>0         </td></tr>\n",
       "\t<tr><td>0         </td><td>0.0000000 </td><td>0.0000000 </td><td>0         </td><td>0         </td><td>0         </td><td>0         </td><td>0         </td><td>0.0000000 </td><td>0         </td><td>...       </td><td>0         </td><td>0         </td><td>0         </td><td>0         </td><td>0         </td><td>0.00000000</td><td>0.0000000 </td><td>0         </td><td>0         </td><td>0         </td></tr>\n",
       "\t<tr><td>0         </td><td>0.0000000 </td><td>0.0000000 </td><td>0         </td><td>0         </td><td>0         </td><td>0         </td><td>0         </td><td>0.0000000 </td><td>0         </td><td>...       </td><td>0         </td><td>0         </td><td>0         </td><td>0         </td><td>0         </td><td>0.00000000</td><td>0.0000000 </td><td>0         </td><td>0         </td><td>0         </td></tr>\n",
       "\t<tr><td>0         </td><td>0.1162315 </td><td>0.0000000 </td><td>0         </td><td>0         </td><td>0         </td><td>0         </td><td>0         </td><td>0.0000000 </td><td>0         </td><td>...       </td><td>0         </td><td>0         </td><td>0         </td><td>0         </td><td>0         </td><td>0.00000000</td><td>0.0000000 </td><td>0         </td><td>0         </td><td>0         </td></tr>\n",
       "</tbody>\n",
       "</table>\n"
      ],
      "text/latex": [
       "\\begin{tabular}{r|lllllllllllllllllllllllllllllllllllllllllllllllllllllllllllllllllllllllllllllllllllllllllllllllllllllllllllllllllllllllllllllllllllllllllllllllllllllllllllllllllllllllllllllllllllllllllllllllllllllllllllllllllllllllllllllllllllllllllllllllllllllllllllllllllllllllllllllllllllllllllllllllllllllllllllllllllllllllllllllllllllllllllllllllllllllllllllllllllllllllllllllllllllllllllllllllllllllllllllllllllllllllllllllllllllllllllllllllllllllllllllllllllllllllllllllllllllllllllllllllllllllllllllllllllllllllllllllllllllllllllllllllllllllllllllll}\n",
       " X000 & X100 & X200 & X2008 & X500 & X6.3 & X6.4 & abc & access & accid & ... & work & worker & world & world\\_numb & worst & year & years\\_ago & yesterday & young & zealand\\\\\n",
       "\\hline\n",
       "\t 0          & 0.0000000  & 0.1902794  & 0          & 0          & 0          & 0          & 0          & 0.0000000  & 0          & ...        & 0          & 0          & 0          & 0          & 0          & 0.18269776 & 0.0000000  & 0          & 0          & 0         \\\\\n",
       "\t 0          & 0.0000000  & 0.0000000  & 0          & 0          & 0          & 0          & 0          & 0.0000000  & 0          & ...        & 0          & 0          & 0          & 0          & 0          & 0.06883382 & 0.1448312  & 0          & 0          & 0         \\\\\n",
       "\t 0          & 0.0000000  & 0.0000000  & 0          & 0          & 0          & 0          & 0          & 0.5385739  & 0          & ...        & 0          & 0          & 0          & 0          & 0          & 0.00000000 & 0.2586836  & 0          & 0          & 0         \\\\\n",
       "\t 0          & 0.0000000  & 0.0000000  & 0          & 0          & 0          & 0          & 0          & 0.0000000  & 0          & ...        & 0          & 0          & 0          & 0          & 0          & 0.00000000 & 0.0000000  & 0          & 0          & 0         \\\\\n",
       "\t 0          & 0.0000000  & 0.0000000  & 0          & 0          & 0          & 0          & 0          & 0.0000000  & 0          & ...        & 0          & 0          & 0          & 0          & 0          & 0.00000000 & 0.0000000  & 0          & 0          & 0         \\\\\n",
       "\t 0          & 0.1162315  & 0.0000000  & 0          & 0          & 0          & 0          & 0          & 0.0000000  & 0          & ...        & 0          & 0          & 0          & 0          & 0          & 0.00000000 & 0.0000000  & 0          & 0          & 0         \\\\\n",
       "\\end{tabular}\n"
      ],
      "text/markdown": [
       "\n",
       "X000 | X100 | X200 | X2008 | X500 | X6.3 | X6.4 | abc | access | accid | ... | work | worker | world | world_numb | worst | year | years_ago | yesterday | young | zealand | \n",
       "|---|---|---|---|---|---|\n",
       "| 0          | 0.0000000  | 0.1902794  | 0          | 0          | 0          | 0          | 0          | 0.0000000  | 0          | ...        | 0          | 0          | 0          | 0          | 0          | 0.18269776 | 0.0000000  | 0          | 0          | 0          | \n",
       "| 0          | 0.0000000  | 0.0000000  | 0          | 0          | 0          | 0          | 0          | 0.0000000  | 0          | ...        | 0          | 0          | 0          | 0          | 0          | 0.06883382 | 0.1448312  | 0          | 0          | 0          | \n",
       "| 0          | 0.0000000  | 0.0000000  | 0          | 0          | 0          | 0          | 0          | 0.5385739  | 0          | ...        | 0          | 0          | 0          | 0          | 0          | 0.00000000 | 0.2586836  | 0          | 0          | 0          | \n",
       "| 0          | 0.0000000  | 0.0000000  | 0          | 0          | 0          | 0          | 0          | 0.0000000  | 0          | ...        | 0          | 0          | 0          | 0          | 0          | 0.00000000 | 0.0000000  | 0          | 0          | 0          | \n",
       "| 0          | 0.0000000  | 0.0000000  | 0          | 0          | 0          | 0          | 0          | 0.0000000  | 0          | ...        | 0          | 0          | 0          | 0          | 0          | 0.00000000 | 0.0000000  | 0          | 0          | 0          | \n",
       "| 0          | 0.1162315  | 0.0000000  | 0          | 0          | 0          | 0          | 0          | 0.0000000  | 0          | ...        | 0          | 0          | 0          | 0          | 0          | 0.00000000 | 0.0000000  | 0          | 0          | 0          | \n",
       "\n",
       "\n"
      ],
      "text/plain": [
       "  X000 X100      X200      X2008 X500 X6.3 X6.4 abc access    accid ... work\n",
       "1 0    0.0000000 0.1902794 0     0    0    0    0   0.0000000 0     ... 0   \n",
       "2 0    0.0000000 0.0000000 0     0    0    0    0   0.0000000 0     ... 0   \n",
       "3 0    0.0000000 0.0000000 0     0    0    0    0   0.5385739 0     ... 0   \n",
       "4 0    0.0000000 0.0000000 0     0    0    0    0   0.0000000 0     ... 0   \n",
       "5 0    0.0000000 0.0000000 0     0    0    0    0   0.0000000 0     ... 0   \n",
       "6 0    0.1162315 0.0000000 0     0    0    0    0   0.0000000 0     ... 0   \n",
       "  worker world world_numb worst year       years_ago yesterday young zealand\n",
       "1 0      0     0          0     0.18269776 0.0000000 0         0     0      \n",
       "2 0      0     0          0     0.06883382 0.1448312 0         0     0      \n",
       "3 0      0     0          0     0.00000000 0.2586836 0         0     0      \n",
       "4 0      0     0          0     0.00000000 0.0000000 0         0     0      \n",
       "5 0      0     0          0     0.00000000 0.0000000 0         0     0      \n",
       "6 0      0     0          0     0.00000000 0.0000000 0         0     0      "
      ]
     },
     "metadata": {},
     "output_type": "display_data"
    }
   ],
   "source": [
    "head(test.file)"
   ]
  },
  {
   "cell_type": "markdown",
   "metadata": {},
   "source": [
    "Removing the article name column"
   ]
  },
  {
   "cell_type": "code",
   "execution_count": 14,
   "metadata": {},
   "outputs": [],
   "source": [
    "test.file = test.file[-ncol(test.file)]"
   ]
  },
  {
   "cell_type": "markdown",
   "metadata": {},
   "source": [
    "Using the model to predict the labels"
   ]
  },
  {
   "cell_type": "code",
   "execution_count": 16,
   "metadata": {},
   "outputs": [],
   "source": [
    "preds3 <- predict(model_svm,test.file)"
   ]
  },
  {
   "cell_type": "markdown",
   "metadata": {},
   "source": [
    "Writing the predicted labels to the text file in the format -\n",
    "\n",
    "article number + space + predicted label"
   ]
  },
  {
   "cell_type": "code",
   "execution_count": 17,
   "metadata": {},
   "outputs": [],
   "source": [
    "fileConn <- file(\"testing_labels_pred.txt\")\n",
    "for (i in 1:length(preds3)){\n",
    "    cat(paste(ar_names[i],preds3[i]),file=\"testing_labels_pred.txt\",sep ='\\n', append=TRUE)\n",
    "    }\n",
    "close(fileConn)"
   ]
  }
 ],
 "metadata": {
  "kernelspec": {
   "display_name": "R",
   "language": "R",
   "name": "ir"
  },
  "language_info": {
   "codemirror_mode": "r",
   "file_extension": ".r",
   "mimetype": "text/x-r-source",
   "name": "R",
   "pygments_lexer": "r",
   "version": "3.4.3"
  }
 },
 "nbformat": 4,
 "nbformat_minor": 2
}
